{
 "cells": [
  {
   "cell_type": "code",
   "execution_count": 1,
   "metadata": {},
   "outputs": [],
   "source": [
    "import pandas as pd\n",
    "import numpy as np"
   ]
  },
  {
   "cell_type": "markdown",
   "metadata": {},
   "source": [
    "# #1. Build a model that predicts conversion rate"
   ]
  },
  {
   "cell_type": "markdown",
   "metadata": {},
   "source": [
    "### Explore the data"
   ]
  },
  {
   "cell_type": "code",
   "execution_count": 2,
   "metadata": {},
   "outputs": [],
   "source": [
    "df = pd.read_csv('data/conversion_data.csv')"
   ]
  },
  {
   "cell_type": "code",
   "execution_count": 3,
   "metadata": {},
   "outputs": [
    {
     "data": {
      "text/html": [
       "<div>\n",
       "<style scoped>\n",
       "    .dataframe tbody tr th:only-of-type {\n",
       "        vertical-align: middle;\n",
       "    }\n",
       "\n",
       "    .dataframe tbody tr th {\n",
       "        vertical-align: top;\n",
       "    }\n",
       "\n",
       "    .dataframe thead th {\n",
       "        text-align: right;\n",
       "    }\n",
       "</style>\n",
       "<table border=\"1\" class=\"dataframe\">\n",
       "  <thead>\n",
       "    <tr style=\"text-align: right;\">\n",
       "      <th></th>\n",
       "      <th>country</th>\n",
       "      <th>age</th>\n",
       "      <th>new_user</th>\n",
       "      <th>source</th>\n",
       "      <th>total_pages_visited</th>\n",
       "      <th>converted</th>\n",
       "    </tr>\n",
       "  </thead>\n",
       "  <tbody>\n",
       "    <tr>\n",
       "      <th>0</th>\n",
       "      <td>UK</td>\n",
       "      <td>25</td>\n",
       "      <td>1</td>\n",
       "      <td>Ads</td>\n",
       "      <td>1</td>\n",
       "      <td>0</td>\n",
       "    </tr>\n",
       "    <tr>\n",
       "      <th>1</th>\n",
       "      <td>US</td>\n",
       "      <td>23</td>\n",
       "      <td>1</td>\n",
       "      <td>Seo</td>\n",
       "      <td>5</td>\n",
       "      <td>0</td>\n",
       "    </tr>\n",
       "    <tr>\n",
       "      <th>2</th>\n",
       "      <td>US</td>\n",
       "      <td>28</td>\n",
       "      <td>1</td>\n",
       "      <td>Seo</td>\n",
       "      <td>4</td>\n",
       "      <td>0</td>\n",
       "    </tr>\n",
       "    <tr>\n",
       "      <th>3</th>\n",
       "      <td>China</td>\n",
       "      <td>39</td>\n",
       "      <td>1</td>\n",
       "      <td>Seo</td>\n",
       "      <td>5</td>\n",
       "      <td>0</td>\n",
       "    </tr>\n",
       "    <tr>\n",
       "      <th>4</th>\n",
       "      <td>US</td>\n",
       "      <td>30</td>\n",
       "      <td>1</td>\n",
       "      <td>Seo</td>\n",
       "      <td>6</td>\n",
       "      <td>0</td>\n",
       "    </tr>\n",
       "  </tbody>\n",
       "</table>\n",
       "</div>"
      ],
      "text/plain": [
       "  country  age  new_user source  total_pages_visited  converted\n",
       "0      UK   25         1    Ads                    1          0\n",
       "1      US   23         1    Seo                    5          0\n",
       "2      US   28         1    Seo                    4          0\n",
       "3   China   39         1    Seo                    5          0\n",
       "4      US   30         1    Seo                    6          0"
      ]
     },
     "execution_count": 3,
     "metadata": {},
     "output_type": "execute_result"
    }
   ],
   "source": [
    "df.head()"
   ]
  },
  {
   "cell_type": "code",
   "execution_count": 39,
   "metadata": {},
   "outputs": [],
   "source": [
    "from sklearn.model_selection import train_test_split\n",
    "from sklearn.linear_model import LogisticRegression\n",
    "from sklearn.ensemble import RandomForestClassifier\n",
    "from sklearn import preprocessing\n",
    "from sklearn.metrics import roc_auc_score, accuracy_score, f1_score, precision_recall_curve, auc\n",
    "from sklearn.metrics import accuracy_score\n",
    "import math"
   ]
  },
  {
   "cell_type": "markdown",
   "metadata": {},
   "source": [
    "### Data processing: OHE"
   ]
  },
  {
   "cell_type": "code",
   "execution_count": 6,
   "metadata": {},
   "outputs": [],
   "source": [
    "country_dummy = pd.get_dummies(df['country'],prefix='cnty')\n",
    "source_dummy = pd.get_dummies(df['source'],prefix='sc')\n",
    "df = pd.concat([df, country_dummy, source_dummy], axis = 1)\n",
    "df = df.drop(['country', 'source'], axis = 1)"
   ]
  },
  {
   "cell_type": "code",
   "execution_count": 7,
   "metadata": {},
   "outputs": [
    {
     "data": {
      "text/html": [
       "<div>\n",
       "<style scoped>\n",
       "    .dataframe tbody tr th:only-of-type {\n",
       "        vertical-align: middle;\n",
       "    }\n",
       "\n",
       "    .dataframe tbody tr th {\n",
       "        vertical-align: top;\n",
       "    }\n",
       "\n",
       "    .dataframe thead th {\n",
       "        text-align: right;\n",
       "    }\n",
       "</style>\n",
       "<table border=\"1\" class=\"dataframe\">\n",
       "  <thead>\n",
       "    <tr style=\"text-align: right;\">\n",
       "      <th></th>\n",
       "      <th>age</th>\n",
       "      <th>new_user</th>\n",
       "      <th>total_pages_visited</th>\n",
       "      <th>converted</th>\n",
       "      <th>cnty_China</th>\n",
       "      <th>cnty_Germany</th>\n",
       "      <th>cnty_UK</th>\n",
       "      <th>cnty_US</th>\n",
       "      <th>sc_Ads</th>\n",
       "      <th>sc_Direct</th>\n",
       "      <th>sc_Seo</th>\n",
       "    </tr>\n",
       "  </thead>\n",
       "  <tbody>\n",
       "    <tr>\n",
       "      <th>0</th>\n",
       "      <td>25</td>\n",
       "      <td>1</td>\n",
       "      <td>1</td>\n",
       "      <td>0</td>\n",
       "      <td>0</td>\n",
       "      <td>0</td>\n",
       "      <td>1</td>\n",
       "      <td>0</td>\n",
       "      <td>1</td>\n",
       "      <td>0</td>\n",
       "      <td>0</td>\n",
       "    </tr>\n",
       "    <tr>\n",
       "      <th>1</th>\n",
       "      <td>23</td>\n",
       "      <td>1</td>\n",
       "      <td>5</td>\n",
       "      <td>0</td>\n",
       "      <td>0</td>\n",
       "      <td>0</td>\n",
       "      <td>0</td>\n",
       "      <td>1</td>\n",
       "      <td>0</td>\n",
       "      <td>0</td>\n",
       "      <td>1</td>\n",
       "    </tr>\n",
       "    <tr>\n",
       "      <th>2</th>\n",
       "      <td>28</td>\n",
       "      <td>1</td>\n",
       "      <td>4</td>\n",
       "      <td>0</td>\n",
       "      <td>0</td>\n",
       "      <td>0</td>\n",
       "      <td>0</td>\n",
       "      <td>1</td>\n",
       "      <td>0</td>\n",
       "      <td>0</td>\n",
       "      <td>1</td>\n",
       "    </tr>\n",
       "    <tr>\n",
       "      <th>3</th>\n",
       "      <td>39</td>\n",
       "      <td>1</td>\n",
       "      <td>5</td>\n",
       "      <td>0</td>\n",
       "      <td>1</td>\n",
       "      <td>0</td>\n",
       "      <td>0</td>\n",
       "      <td>0</td>\n",
       "      <td>0</td>\n",
       "      <td>0</td>\n",
       "      <td>1</td>\n",
       "    </tr>\n",
       "    <tr>\n",
       "      <th>4</th>\n",
       "      <td>30</td>\n",
       "      <td>1</td>\n",
       "      <td>6</td>\n",
       "      <td>0</td>\n",
       "      <td>0</td>\n",
       "      <td>0</td>\n",
       "      <td>0</td>\n",
       "      <td>1</td>\n",
       "      <td>0</td>\n",
       "      <td>0</td>\n",
       "      <td>1</td>\n",
       "    </tr>\n",
       "  </tbody>\n",
       "</table>\n",
       "</div>"
      ],
      "text/plain": [
       "   age  new_user  total_pages_visited  converted  cnty_China  cnty_Germany  \\\n",
       "0   25         1                    1          0           0             0   \n",
       "1   23         1                    5          0           0             0   \n",
       "2   28         1                    4          0           0             0   \n",
       "3   39         1                    5          0           1             0   \n",
       "4   30         1                    6          0           0             0   \n",
       "\n",
       "   cnty_UK  cnty_US  sc_Ads  sc_Direct  sc_Seo  \n",
       "0        1        0       1          0       0  \n",
       "1        0        1       0          0       1  \n",
       "2        0        1       0          0       1  \n",
       "3        0        0       0          0       1  \n",
       "4        0        1       0          0       1  "
      ]
     },
     "execution_count": 7,
     "metadata": {},
     "output_type": "execute_result"
    }
   ],
   "source": [
    "df.head()"
   ]
  },
  {
   "cell_type": "markdown",
   "metadata": {},
   "source": [
    "### Split the data"
   ]
  },
  {
   "cell_type": "code",
   "execution_count": 8,
   "metadata": {},
   "outputs": [],
   "source": [
    "X_columns = list(df.columns)\n",
    "X_columns.remove('converted')\n",
    "y_column = 'converted'"
   ]
  },
  {
   "cell_type": "code",
   "execution_count": 9,
   "metadata": {},
   "outputs": [],
   "source": [
    "X_train, X_test, y_train, y_test = train_test_split(df[X_columns], df[y_column], test_size=0.2, random_state=0)"
   ]
  },
  {
   "cell_type": "markdown",
   "metadata": {},
   "source": [
    "### Try two candidate methods: logistic regression and RandomForest"
   ]
  },
  {
   "cell_type": "code",
   "execution_count": 25,
   "metadata": {},
   "outputs": [],
   "source": [
    "lr = LogisticRegression()\n",
    "rf = RandomForestClassifier(n_estimators=100, max_depth=15,oob_score=True, random_state=812)"
   ]
  },
  {
   "cell_type": "markdown",
   "metadata": {},
   "source": [
    "### Logitstic regression"
   ]
  },
  {
   "cell_type": "code",
   "execution_count": 54,
   "metadata": {},
   "outputs": [],
   "source": [
    "scaler = preprocessing.StandardScaler().fit(X_train)\n",
    "X_train = scaler.transform(X_train) \n",
    "X_test  = scaler.transform(X_test) \n",
    "lr.fit(X_train, y_train)\n",
    "y_pred_prob = lr.predict_proba(X_test)[:,1]\n",
    "y_pred = lr.predict(X_test)\n",
    "precision, recall, thresholds_pr = precision_recall_curve(y_test, y_pred_prob)\n",
    "lr_auc_roc = roc_auc_score(y_test, y_pred_prob)\n",
    "lr_acc = accuracy_score(y_test, y_pred)\n",
    "lr_auc_pr = auc(recall, precision)\n",
    "lr_f1 = f1_score(y_test, y_pred)"
   ]
  },
  {
   "cell_type": "code",
   "execution_count": 30,
   "metadata": {},
   "outputs": [],
   "source": [
    "rf.fit(X_train, y_train)\n",
    "y_pred_prob = rf.predict_proba(X_test)[:,1]\n",
    "y_pred = rf.predict(X_test)\n",
    "precision, recall, thresholds_pr = precision_recall_curve(y_test, y_pred_prob)\n",
    "rf_auc_roc = roc_auc_score(y_test, y_pred_prob)\n",
    "rf_acc = accuracy_score(y_test, y_pred)\n",
    "rf_auc_pr = auc(recall, precision)\n",
    "rf_f1 = f1_score(y_test, y_pred)"
   ]
  },
  {
   "cell_type": "code",
   "execution_count": 55,
   "metadata": {},
   "outputs": [
    {
     "name": "stdout",
     "output_type": "stream",
     "text": [
      "logistic regression: \n",
      " auc_pr:  0.8445276914162049 f1 score:  0.7611140867702197\n",
      "randomforest: \n",
      " auc_pr:  0.8041779743862764 f1 score:  0.7393364928909952\n"
     ]
    }
   ],
   "source": [
    "print('logistic regression: \\n auc_pr: ', lr_auc_pr, 'f1 score: ', lr_f1)\n",
    "print('randomforest: \\n auc_pr: ', rf_auc_pr, 'f1 score: ', rf_f1)"
   ]
  },
  {
   "cell_type": "markdown",
   "metadata": {},
   "source": [
    "It turns out logistic regression does a better job predicting the conversion. It should be used as the model."
   ]
  },
  {
   "cell_type": "markdown",
   "metadata": {},
   "source": [
    "---"
   ]
  },
  {
   "cell_type": "markdown",
   "metadata": {},
   "source": [
    "# #2. Using the model, determine which features are important in predicting conversion."
   ]
  },
  {
   "cell_type": "markdown",
   "metadata": {},
   "source": [
    "Logistic regression is a linear model, so just the coefficient after scaler should be used to show important features. (Assuming there is no correlation among featuress)"
   ]
  },
  {
   "cell_type": "code",
   "execution_count": 89,
   "metadata": {},
   "outputs": [
    {
     "data": {
      "text/html": [
       "<div>\n",
       "<style scoped>\n",
       "    .dataframe tbody tr th:only-of-type {\n",
       "        vertical-align: middle;\n",
       "    }\n",
       "\n",
       "    .dataframe tbody tr th {\n",
       "        vertical-align: top;\n",
       "    }\n",
       "\n",
       "    .dataframe thead th {\n",
       "        text-align: right;\n",
       "    }\n",
       "</style>\n",
       "<table border=\"1\" class=\"dataframe\">\n",
       "  <thead>\n",
       "    <tr style=\"text-align: right;\">\n",
       "      <th></th>\n",
       "      <th>features</th>\n",
       "      <th>coef</th>\n",
       "      <th>abs_coef</th>\n",
       "    </tr>\n",
       "  </thead>\n",
       "  <tbody>\n",
       "    <tr>\n",
       "      <th>2</th>\n",
       "      <td>total_pages_visited</td>\n",
       "      <td>2.517384</td>\n",
       "      <td>2.517384</td>\n",
       "    </tr>\n",
       "    <tr>\n",
       "      <th>3</th>\n",
       "      <td>cnty_China</td>\n",
       "      <td>-1.019989</td>\n",
       "      <td>1.019989</td>\n",
       "    </tr>\n",
       "    <tr>\n",
       "      <th>1</th>\n",
       "      <td>new_user</td>\n",
       "      <td>-0.782222</td>\n",
       "      <td>0.782222</td>\n",
       "    </tr>\n",
       "    <tr>\n",
       "      <th>0</th>\n",
       "      <td>age</td>\n",
       "      <td>-0.628436</td>\n",
       "      <td>0.628436</td>\n",
       "    </tr>\n",
       "    <tr>\n",
       "      <th>5</th>\n",
       "      <td>cnty_UK</td>\n",
       "      <td>0.445047</td>\n",
       "      <td>0.445047</td>\n",
       "    </tr>\n",
       "    <tr>\n",
       "      <th>6</th>\n",
       "      <td>cnty_US</td>\n",
       "      <td>0.438446</td>\n",
       "      <td>0.438446</td>\n",
       "    </tr>\n",
       "    <tr>\n",
       "      <th>4</th>\n",
       "      <td>cnty_Germany</td>\n",
       "      <td>0.296256</td>\n",
       "      <td>0.296256</td>\n",
       "    </tr>\n",
       "    <tr>\n",
       "      <th>8</th>\n",
       "      <td>sc_Direct</td>\n",
       "      <td>-0.063961</td>\n",
       "      <td>0.063961</td>\n",
       "    </tr>\n",
       "    <tr>\n",
       "      <th>7</th>\n",
       "      <td>sc_Ads</td>\n",
       "      <td>0.036519</td>\n",
       "      <td>0.036519</td>\n",
       "    </tr>\n",
       "    <tr>\n",
       "      <th>9</th>\n",
       "      <td>sc_Seo</td>\n",
       "      <td>0.020960</td>\n",
       "      <td>0.020960</td>\n",
       "    </tr>\n",
       "  </tbody>\n",
       "</table>\n",
       "</div>"
      ],
      "text/plain": [
       "              features      coef  abs_coef\n",
       "2  total_pages_visited  2.517384  2.517384\n",
       "3           cnty_China -1.019989  1.019989\n",
       "1             new_user -0.782222  0.782222\n",
       "0                  age -0.628436  0.628436\n",
       "5              cnty_UK  0.445047  0.445047\n",
       "6              cnty_US  0.438446  0.438446\n",
       "4         cnty_Germany  0.296256  0.296256\n",
       "8            sc_Direct -0.063961  0.063961\n",
       "7               sc_Ads  0.036519  0.036519\n",
       "9               sc_Seo  0.020960  0.020960"
      ]
     },
     "execution_count": 89,
     "metadata": {},
     "output_type": "execute_result"
    }
   ],
   "source": [
    "# feature_coef = pd.concat([pd.Series(X_columns, name = 'features'), pd.Series(lr.coef_[0], name = 'coef')], axis = 1)\n",
    "feature_coef['abs_coef'] = abs(feature_coef.coef)\n",
    "\n",
    "feature_importance = feature_coef.sort_values('abs_coef', ascending=False)\n",
    "\n",
    "feature_importance"
   ]
  },
  {
   "cell_type": "markdown",
   "metadata": {},
   "source": [
    "Based on the analysis, the top 3 features for the model are total_page_visited (positive impact), if the rider signed up from China (negative impact), and if the user signed up at the current session (negative impact)."
   ]
  },
  {
   "cell_type": "markdown",
   "metadata": {},
   "source": [
    "It is worth mentioning that the way I did above can only apply to linear model. For non-linear models, some of them contains attribute such as feature_importances in random forest. We can also use other packages such as SHAP to explain important features for non-linear models."
   ]
  },
  {
   "cell_type": "markdown",
   "metadata": {},
   "source": [
    "# #3. Come up with some recommendations of experiments you might run or changes you might make to the product team and to the marketing team"
   ]
  },
  {
   "cell_type": "markdown",
   "metadata": {},
   "source": [
    "There are two experiments I would recommend to run. \n",
    "1. The experiment I would recommend to run is to split the traffic based on the classification model. The control group should include random users from traffic. The testing group should include users with predicted score of 0.5 or higher (The threshold could be higher than 0.5 based on traffic volume and specific product needs). This experiment would be able to verify the performance of the model in production.\n",
    "2. The recommendations I would make to product team is to build promping banners or converting trigers for higher scored users to help them land on the conversion page more easily."
   ]
  },
  {
   "cell_type": "markdown",
   "metadata": {},
   "source": [
    "# #4. Conversion rate testing"
   ]
  },
  {
   "cell_type": "markdown",
   "metadata": {},
   "source": [
    "Based on the statement, the z-value for both testA/control and testB/control is about 2.576 (assuming two-sided change). \n",
    "The formula for Z value here can be expressed as this:\n",
    "Z = (CR_t - CR_c)/SE = (CR_t - CR_c)/((SE_t^2 + SE_c^2)^1/2)\n",
    "CR_t: conversion rate of testing group\n",
    "CR_c: conversion rate of control gruop\n",
    "SE_t: standard error of testing group\n",
    "SE_c: standard error of control group\n",
    "Assuming the conversion rate and distribution of the holdout in both tests keep the same, and the sample size of testing group and holdout group are the same, we can get that:\n",
    "For test A: 2.576 = 3.5%/SE_a ==> SE_a = 1.35%\n",
    "For test B: 2.576 = 2.5%/SE_b ==> SE_b = 0.97%\n",
    "SE_a^2 - SE_b^2 = SE_t_a^2 + SE_c_a^2 - SE_t_b^2 - SE_c_b^2 = SE_t_a^2 = SE_t_a^2 - SE_t_b^2 = 8.8e-5\n",
    "SE_a_b ~ 1.5%\n",
    "to determin if lift from old methodology to new methodology is significant, we need to calculate the z value:\n",
    "z = (cr_t_a - cr_t_b)/SE_a_b = 1.0%/SE_a_b = 0.667\n",
    "The corresponding p value is 0.509. The lift is **not significant**.\n"
   ]
  },
  {
   "cell_type": "markdown",
   "metadata": {},
   "source": [
    "# #5."
   ]
  },
  {
   "cell_type": "markdown",
   "metadata": {},
   "source": [
    "I would write an automatic re-training algorithm, triggered by the case when a performance evaluation metrics, such as f1 score or pr_auc, drops below a preset threshold, or the case when a maximum period of time, such as 6 months, is reached.\n",
    "Once the retraining process is triggered, the algorithm should be able to re-fetch the data, re-train the model and evaluate it automatically. The final performance metrics should be reported to view. If the retrained model performs good, an auto implementation should be started. Otherwise, a model improvement needs to be taken into consideration.\n",
    "The auto-retraining part can be done in several ways, the way I am familiar with is to use DAG through AWS system, where several tasks could be linked and run sequentially."
   ]
  }
 ],
 "metadata": {
  "kernelspec": {
   "display_name": "py35",
   "language": "python",
   "name": "python3"
  },
  "language_info": {
   "codemirror_mode": {
    "name": "ipython",
    "version": 3
   },
   "file_extension": ".py",
   "mimetype": "text/x-python",
   "name": "python",
   "nbconvert_exporter": "python",
   "pygments_lexer": "ipython3",
   "version": "3.5.5"
  }
 },
 "nbformat": 4,
 "nbformat_minor": 2
}
